{
  "nbformat": 4,
  "nbformat_minor": 0,
  "metadata": {
    "colab": {
      "name": "Atividade prática phyton 1",
      "version": "0.3.2",
      "provenance": [],
      "include_colab_link": true
    },
    "kernelspec": {
      "name": "python3",
      "display_name": "Python 3"
    }
  },
  "cells": [
    {
      "cell_type": "markdown",
      "metadata": {
        "id": "view-in-github",
        "colab_type": "text"
      },
      "source": [
        "<a href=\"https://colab.research.google.com/github/alyssonla/Atividades-em-Phyton/blob/master/Atividade_pr%C3%A1tica_phyton_1.ipynb\" target=\"_parent\"><img src=\"https://colab.research.google.com/assets/colab-badge.svg\" alt=\"Open In Colab\"/></a>"
      ]
    },
    {
      "cell_type": "code",
      "metadata": {
        "id": "Zk35GeTKISFD",
        "colab_type": "code",
        "colab": {}
      },
      "source": [
        "def fatorial():\n",
        "  n=int(input(\"Digite o número: \"))\n",
        "  fat = 1\n",
        "  i = 1\n",
        "  while i<=n:\n",
        "    fat = fat*i\n",
        "    i = i+1\n",
        "  print(\"A resposta é: \", fat)\n",
        "fatorial()"
      ],
      "execution_count": 0,
      "outputs": []
    },
    {
      "cell_type": "code",
      "metadata": {
        "id": "-scwmpnCcKfH",
        "colab_type": "code",
        "colab": {
          "base_uri": "https://localhost:8080/",
          "height": 51
        },
        "outputId": "d87ae5c2-ff64-4fbb-f723-12442b158a7b"
      },
      "source": [
        "numero = float(input(\"Digite um numero: \"))\n",
        "resto = numero % 2\n",
        "if resto == 0:\n",
        " print(\"numero é par\")\n",
        "else:\n",
        " print (\"numero é impar\")"
      ],
      "execution_count": 9,
      "outputs": [
        {
          "output_type": "stream",
          "text": [
            "Digite um numero: 16\n",
            "numero é par\n"
          ],
          "name": "stdout"
        }
      ]
    }
  ]
}